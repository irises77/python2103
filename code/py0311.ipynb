{
 "cells": [
  {
   "cell_type": "code",
   "execution_count": 22,
   "id": "automatic-rehabilitation",
   "metadata": {},
   "outputs": [
    {
     "name": "stdout",
     "output_type": "stream",
     "text": [
      "5는 10보다 크다\n",
      "입니다.\n",
      "프로그램이 종료되었습니다.\n"
     ]
    }
   ],
   "source": [
    "# 파이썬에서 들여쓰기는 Indentation 문법사항\n",
    "# 필요한 곳에서 하지 않으면 오류발생\n",
    "# 파이썬은 공백 2칸, 공백 4칸, 탭 문자 등을 각각 사용해도 동작이 잘 된다.\n",
    "# 하지만 파이썬 코딩 스타일 가이드(PEP 8)에서는 공백 4칸으로 규정하고 있으니 \n",
    "# 4칸을 사용하는 것이 좋겠다.\n",
    "# 같은 블록은 들여쓰기 칸 수가 같아야 하고, 공백과 탭 문자를 섞어쓰면 안된다.\n",
    "\n",
    "if 5 < 10 :\n",
    "    print(\"5는 10보다 크다\")\n",
    "    print(\"입니다.\")\n",
    "print(\"프로그램이 종료되었습니다.\")"
   ]
  },
  {
   "cell_type": "code",
   "execution_count": null,
   "id": "chicken-facial",
   "metadata": {},
   "outputs": [],
   "source": [
    "# 변수 : 프로그램이 사용할 데이터를 기억하는 저장 장소의 이름\n",
    "\n",
    "birthYear = 2005     # birthYear라는 변수는 2005 값을 저장하고 있고\n",
    "age = 2021 - birthYear   # age라는 변수는 2021 - birthYear의 연산결과를 저장한다.\n",
    "print(age)         # age에 저장된 값을 출력한다."
   ]
  },
  {
   "cell_type": "code",
   "execution_count": 35,
   "id": "olympic-terror",
   "metadata": {},
   "outputs": [],
   "source": [
    "# 타입Type : 숫자(정수형, 실수형), 문자(열), Boolean\n",
    "\n",
    "numberint = 100.0      # 정수형int 타입\n",
    "numberfloat = 1.234       # 실수형float 타입\n",
    "varChar = 'A'      # 문자형str 타입\n",
    "varStr = 'korea'       # 문자열str 타입\n",
    "varBool = True      # 부울Bool 타입"
   ]
  },
  {
   "cell_type": "code",
   "execution_count": 36,
   "id": "amended-small",
   "metadata": {},
   "outputs": [
    {
     "name": "stdout",
     "output_type": "stream",
     "text": [
      "<class 'float'>\n",
      "False\n"
     ]
    }
   ],
   "source": [
    "# 파이썬에는 type()함수가 있어서 data type을 확인할 수 있다.\n",
    "\n",
    "print(type(numberint))\n",
    "print(isinstance(numberint,int))\n"
   ]
  },
  {
   "cell_type": "code",
   "execution_count": 32,
   "id": "continuous-measurement",
   "metadata": {},
   "outputs": [],
   "source": [
    "# Jupyter 단축키\n",
    "\n",
    "# J.N cell 나누기\n",
    "    # 커서 위치에서 셀을 나누려면 Ctrl + shift + 숫자키 - 눌러준다\n",
    "# ctrl+y : 되돌리기 취소 ★★★★★\n",
    "# Ctrl+Shift+'-' : 현재 커서 위치 기준으로 셀 나누기\n",
    "# tab/shift+tab : 들여쓰기, 내어쓰기\n",
    "# Shift+m : 여러 셀 합치기\n"
   ]
  },
  {
   "cell_type": "code",
   "execution_count": null,
   "id": "desirable-diary",
   "metadata": {},
   "outputs": [],
   "source": [
    "# 오류메시지\n",
    "\n"
   ]
  },
  {
   "cell_type": "code",
   "execution_count": 44,
   "id": "injured-mentor",
   "metadata": {},
   "outputs": [
    {
     "name": "stdout",
     "output_type": "stream",
     "text": [
      "태어난 해를 입력하세요. :1977\n",
      "44\n"
     ]
    }
   ],
   "source": [
    "# 입력함수 input(\"메시지\")\n",
    "\n",
    "birthYear = int(input(\"태어난 해를 입력하세요. :\"))\n",
    "type(birthYear)\n",
    "age = 2021 - birthYear   # age라는 변수는 2021 - birthYear의 연산결과를 저장한다.\n",
    "print(age)         # age에 저장된 값을 출력한다."
   ]
  },
  {
   "cell_type": "code",
   "execution_count": 75,
   "id": "urban-newman",
   "metadata": {},
   "outputs": [
    {
     "name": "stdout",
     "output_type": "stream",
     "text": [
      "koreaIT\n",
      "11\n",
      "age :  10\n",
      "age : \n",
      "10\n",
      "koreakoreakorea\n",
      "age : 10 세\n",
      "age :10세\n",
      "age :*10*세\n",
      "age :*10*세age :*10*세\tage : 10세\n",
      "        10,  3.1400, korea\n",
      "첫번째 수 3.140000 두번째수 10\n"
     ]
    }
   ],
   "source": [
    "#출력함수\n",
    "\n",
    "#  %d : 정수형 타입의 변수 출력\n",
    "#  %f : 실수형 타입의 변수 출력\n",
    "#  %c : 문자형character\n",
    "#  %o : 8진수\n",
    "#  %x : 16진수\n",
    "#  %% : '%'문자\n",
    "\n",
    "print('korea'+'IT')   # ''에서 + 는 add(x) 결합 한다는 의미\n",
    "print(5 + 6)           # + 앞뒤모두 숫자형이면 add 더하기\n",
    "\n",
    "print('age : ', 10)    # , 콤마사용하면 한줄에 문자 숫자 찍힘\n",
    "\n",
    "print('age : ')        # 두줄에 찍힘\n",
    "print(10)\n",
    "\n",
    "print('korea' * 3)     # korea를 3번 찍는다\\\n",
    "\n",
    "\n",
    "print('age :', 10, \"세\")   # 10과 '세' 앞에 공백이 자동으로 생긴다 \n",
    "print('age :', 10, \"세\", sep=\"\") # sep=\"\" 세퍼레이터 10과 '세' 앞에 공백이 없어진다\n",
    "print('age :', 10, \"세\", sep=\"*\") # 10과 '세' 앞에 * 가 생긴다\n",
    "print('age :', 10, \"세\", sep=\"*\", end=\"\") # end=\"\" 출력의 끝문자를 대체\n",
    "print('age :', 10, \"세\", sep=\"*\", end=\"\\t\")  # end=\"\\t\" tab\n",
    "\n",
    "print('age : %d세'%10)     # %d 형식값으로, %10 데이터값으로 찍어라\n",
    "                           # 숫자값 10을 %d 형식값으로 출력해라\n",
    "\n",
    "print('%10d, %7.4f, %s'%(10,3.14,'korea'))\n",
    "\n",
    "print('첫번째 수 {1:f} 두번째수 {0:d}'.format(10,3.14))"
   ]
  },
  {
   "cell_type": "code",
   "execution_count": 76,
   "id": "grand-convert",
   "metadata": {},
   "outputs": [
    {
     "name": "stdout",
     "output_type": "stream",
     "text": [
      "1.4285714285714286\n",
      "3\n",
      "10000000\n",
      "False\n",
      "True\n",
      "True\n",
      "False\n",
      "False\n"
     ]
    }
   ],
   "source": [
    "# 연산자\n",
    "\n",
    "num1=10\n",
    "num2=7\n",
    "print(num1/num2)\n",
    "print(num1%num2)  # 나머지\n",
    "print(num1**num2)# 거듭제곱\n",
    "print(num1<num2)   # true, false로 결과값\n",
    "print(num1>num2)\n",
    "print(num1!=num2)  #  != 같지않다\n",
    "\n",
    "print(10<20 and 10<5)  # T 와 F 일 경우 False\n",
    "print(not(10<20))   # not(T) 일 경우 False"
   ]
  },
  {
   "cell_type": "code",
   "execution_count": 84,
   "id": "dense-genre",
   "metadata": {},
   "outputs": [
    {
     "name": "stdout",
     "output_type": "stream",
     "text": [
      "10진수 :  10\n",
      "2진수 :  0b101\n",
      "8진수 :  0o15\n",
      "16진수 :  0x17\n",
      "5\n"
     ]
    }
   ],
   "source": [
    "# 진수변환\n",
    "\n",
    "print(\"10진수 : \",10)\n",
    "print(\"2진수 : \",bin(5))\n",
    "print(\"8진수 : \",oct(13))\n",
    "print(\"16진수 : \",hex(23))\n",
    "\n",
    "print(5 & 7)    # 비트연산자"
   ]
  }
 ],
 "metadata": {
  "kernelspec": {
   "display_name": "Python 3",
   "language": "python",
   "name": "python3"
  },
  "language_info": {
   "codemirror_mode": {
    "name": "ipython",
    "version": 3
   },
   "file_extension": ".py",
   "mimetype": "text/x-python",
   "name": "python",
   "nbconvert_exporter": "python",
   "pygments_lexer": "ipython3",
   "version": "3.9.2"
  }
 },
 "nbformat": 4,
 "nbformat_minor": 5
}
