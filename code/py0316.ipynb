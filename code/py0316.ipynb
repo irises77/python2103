{
 "cells": [
  {
   "cell_type": "code",
   "execution_count": 18,
   "id": "satisfactory-director",
   "metadata": {},
   "outputs": [
    {
     "name": "stdout",
     "output_type": "stream",
     "text": [
      "       2단            3단    \n",
      "  2 *  1 =  3     2 *  1 =  3   \n",
      "  2 *  2 =  4     2 *  2 =  6   \n",
      "  2 *  3 =  5     2 *  3 =  9   \n",
      "  2 *  4 =  6     2 *  4 = 12   \n",
      "  2 *  5 =  7     2 *  5 = 15   \n",
      "  2 *  6 =  8     2 *  6 = 18   \n",
      "  2 *  7 =  9     2 *  7 = 21   \n",
      "  2 *  8 = 10     2 *  8 = 24   \n",
      "  2 *  9 = 11     2 *  9 = 27   \n",
      "\n",
      "       4단            5단    \n",
      "  4 *  1 =  5     4 *  1 =  5   \n",
      "  4 *  2 =  6     4 *  2 = 10   \n",
      "  4 *  3 =  7     4 *  3 = 15   \n",
      "  4 *  4 =  8     4 *  4 = 20   \n",
      "  4 *  5 =  9     4 *  5 = 25   \n",
      "  4 *  6 = 10     4 *  6 = 30   \n",
      "  4 *  7 = 11     4 *  7 = 35   \n",
      "  4 *  8 = 12     4 *  8 = 40   \n",
      "  4 *  9 = 13     4 *  9 = 45   \n",
      "\n",
      "       6단            7단    \n",
      "  6 *  1 =  7     6 *  1 =  7   \n",
      "  6 *  2 =  8     6 *  2 = 14   \n",
      "  6 *  3 =  9     6 *  3 = 21   \n",
      "  6 *  4 = 10     6 *  4 = 28   \n",
      "  6 *  5 = 11     6 *  5 = 35   \n",
      "  6 *  6 = 12     6 *  6 = 42   \n",
      "  6 *  7 = 13     6 *  7 = 49   \n",
      "  6 *  8 = 14     6 *  8 = 56   \n",
      "  6 *  9 = 15     6 *  9 = 63   \n",
      "\n",
      "       8단            9단    \n",
      "  8 *  1 =  9     8 *  1 =  9   \n",
      "  8 *  2 = 10     8 *  2 = 18   \n",
      "  8 *  3 = 11     8 *  3 = 27   \n",
      "  8 *  4 = 12     8 *  4 = 36   \n",
      "  8 *  5 = 13     8 *  5 = 45   \n",
      "  8 *  6 = 14     8 *  6 = 54   \n",
      "  8 *  7 = 15     8 *  7 = 63   \n",
      "  8 *  8 = 16     8 *  8 = 72   \n",
      "  8 *  9 = 17     8 *  9 = 81   \n",
      "\n"
     ]
    }
   ],
   "source": [
    "#다중 for loop의 예제 : 구구단\n",
    "for i in range(2, 10, 2) :\n",
    "    print('       %d단            %d단    '% (i,  i+1))\n",
    "    for j in range(1, 10) :\n",
    "        print('{0:3d} * {1:2d} = {2:2d}    {3:2d} * {4:2d} = {5:2d}   '.format(i, j, i+j, i, j, (i+1)*j))\n",
    "    print('')"
   ]
  },
  {
   "cell_type": "code",
   "execution_count": 20,
   "id": "appreciated-counter",
   "metadata": {},
   "outputs": [
    {
     "name": "stdout",
     "output_type": "stream",
     "text": [
      "[1, 2, 3]\n"
     ]
    },
    {
     "data": {
      "text/plain": [
       "list"
      ]
     },
     "execution_count": 20,
     "metadata": {},
     "output_type": "execute_result"
    }
   ],
   "source": [
    "# 리스트의 생성 1. [] 사용\n",
    "\n",
    "lst_a = [1,2,3]\n",
    "print(lst_a)\n",
    "type(lst_a)"
   ]
  },
  {
   "cell_type": "code",
   "execution_count": 23,
   "id": "adequate-netscape",
   "metadata": {},
   "outputs": [
    {
     "name": "stdout",
     "output_type": "stream",
     "text": [
      "[1, 2, 3]\n"
     ]
    },
    {
     "data": {
      "text/plain": [
       "list"
      ]
     },
     "execution_count": 23,
     "metadata": {},
     "output_type": "execute_result"
    }
   ],
   "source": [
    "# 리스트의 생성 2. list()\n",
    "\n",
    "lst_a = list(range(1,4))\n",
    "print(lst_a)\n",
    "type(lst_a)"
   ]
  },
  {
   "cell_type": "code",
   "execution_count": 24,
   "id": "signed-interface",
   "metadata": {},
   "outputs": [
    {
     "name": "stdout",
     "output_type": "stream",
     "text": [
      "['홍길동', 19, 181.5, True]\n"
     ]
    }
   ],
   "source": [
    "person = ['홍길동', 19, 181.5, True]\n",
    "print(person)"
   ]
  },
  {
   "cell_type": "code",
   "execution_count": 26,
   "id": "controversial-zambia",
   "metadata": {},
   "outputs": [
    {
     "name": "stdout",
     "output_type": "stream",
     "text": [
      "[]\n"
     ]
    }
   ],
   "source": [
    "lst_a = [];type(lst_a)\n",
    "print(lst_a)"
   ]
  },
  {
   "cell_type": "code",
   "execution_count": 34,
   "id": "closing-binding",
   "metadata": {},
   "outputs": [
    {
     "name": "stdout",
     "output_type": "stream",
     "text": [
      "['홍길동', 19]\n",
      "['홍길동', 19, 181.5]\n",
      "[19, 181.5, True]\n"
     ]
    }
   ],
   "source": [
    "print(person[0:2])   # 0번 index 부터 2번-1=1번 까지 ==> 슬라이싱\n",
    "print(person[:3])\n",
    "print(person[1:])"
   ]
  },
  {
   "cell_type": "code",
   "execution_count": 35,
   "id": "imported-background",
   "metadata": {},
   "outputs": [
    {
     "name": "stdout",
     "output_type": "stream",
     "text": [
      "[]\n"
     ]
    }
   ],
   "source": [
    "lst_a = []\n",
    "print(lst_a)"
   ]
  },
  {
   "cell_type": "code",
   "execution_count": 40,
   "id": "incorrect-genius",
   "metadata": {},
   "outputs": [
    {
     "name": "stdout",
     "output_type": "stream",
     "text": [
      "['한국아이티', '한국아이티']\n"
     ]
    }
   ],
   "source": [
    "lst_a.append('한국아이티')\n",
    "lst_a.pop()\n",
    "print(lst_a)"
   ]
  },
  {
   "cell_type": "code",
   "execution_count": 41,
   "id": "lyric-publicity",
   "metadata": {},
   "outputs": [],
   "source": [
    "lst_a.append('가나다')\n",
    "lst_a.append('korea')"
   ]
  },
  {
   "cell_type": "code",
   "execution_count": 42,
   "id": "general-mustang",
   "metadata": {},
   "outputs": [
    {
     "name": "stdout",
     "output_type": "stream",
     "text": [
      "['korea', '가나다', '한국아이티', '한국아이티']\n"
     ]
    }
   ],
   "source": [
    "lst_a.sort()\n",
    "print(lst_a)"
   ]
  },
  {
   "cell_type": "code",
   "execution_count": 44,
   "id": "daily-transsexual",
   "metadata": {},
   "outputs": [
    {
     "name": "stdout",
     "output_type": "stream",
     "text": [
      "['korea', 'ABC', '한국아이티', '한국아이티']\n"
     ]
    }
   ],
   "source": [
    "lst_a[1]='ABC'\n",
    "print(lst_a)"
   ]
  },
  {
   "cell_type": "code",
   "execution_count": 45,
   "id": "composed-chicken",
   "metadata": {},
   "outputs": [
    {
     "name": "stdout",
     "output_type": "stream",
     "text": [
      "('이름', '학번', '학과', '주소')\n"
     ]
    }
   ],
   "source": [
    "# 튜플생성\n",
    "t1 = ('이름','학번','학과','주소')\n",
    "print(t1)"
   ]
  },
  {
   "cell_type": "code",
   "execution_count": 51,
   "id": "correct-detroit",
   "metadata": {},
   "outputs": [
    {
     "name": "stdout",
     "output_type": "stream",
     "text": [
      "['이름', '학번', '학과', '주소']\n"
     ]
    }
   ],
   "source": [
    "lst1 = list(t1)\n",
    "print(lst1)"
   ]
  },
  {
   "cell_type": "code",
   "execution_count": 52,
   "id": "dressed-lighting",
   "metadata": {},
   "outputs": [
    {
     "name": "stdout",
     "output_type": "stream",
     "text": [
      "['이름', '학번', '학과', '주소', '전화번호']\n"
     ]
    }
   ],
   "source": [
    "lst1.append('전화번호')\n",
    "print(lst1)"
   ]
  },
  {
   "cell_type": "code",
   "execution_count": 54,
   "id": "liquid-disorder",
   "metadata": {},
   "outputs": [],
   "source": [
    "t1 = tuple(lst1)"
   ]
  },
  {
   "cell_type": "code",
   "execution_count": 55,
   "id": "vital-inventory",
   "metadata": {},
   "outputs": [
    {
     "name": "stdout",
     "output_type": "stream",
     "text": [
      "('이름', '학번', '학과', '주소', '전화번호')\n"
     ]
    }
   ],
   "source": [
    "print(t1)"
   ]
  },
  {
   "cell_type": "code",
   "execution_count": 58,
   "id": "extensive-blond",
   "metadata": {},
   "outputs": [
    {
     "data": {
      "text/plain": [
       "list"
      ]
     },
     "execution_count": 58,
     "metadata": {},
     "output_type": "execute_result"
    }
   ],
   "source": [
    "type(lst1)"
   ]
  },
  {
   "cell_type": "code",
   "execution_count": 48,
   "id": "fuzzy-conclusion",
   "metadata": {},
   "outputs": [
    {
     "ename": "TypeError",
     "evalue": "'tuple' object does not support item assignment",
     "output_type": "error",
     "traceback": [
      "\u001b[1;31m---------------------------------------------------------------------------\u001b[0m",
      "\u001b[1;31mTypeError\u001b[0m                                 Traceback (most recent call last)",
      "\u001b[1;32m<ipython-input-48-d9dc3728a6f6>\u001b[0m in \u001b[0;36m<module>\u001b[1;34m\u001b[0m\n\u001b[1;32m----> 1\u001b[1;33m \u001b[0mt1\u001b[0m\u001b[1;33m[\u001b[0m\u001b[1;33m-\u001b[0m\u001b[1;36m1\u001b[0m\u001b[1;33m]\u001b[0m\u001b[1;33m=\u001b[0m\u001b[1;34m\"전화번호\"\u001b[0m\u001b[1;33m\u001b[0m\u001b[1;33m\u001b[0m\u001b[0m\n\u001b[0m",
      "\u001b[1;31mTypeError\u001b[0m: 'tuple' object does not support item assignment"
     ]
    }
   ],
   "source": [
    "t1[-1]=\"전화번호\"     # 튜플은 값을 수정할 수 없다"
   ]
  },
  {
   "cell_type": "code",
   "execution_count": 49,
   "id": "micro-louisville",
   "metadata": {},
   "outputs": [
    {
     "ename": "TypeError",
     "evalue": "'tuple' object does not support item assignment",
     "output_type": "error",
     "traceback": [
      "\u001b[1;31m---------------------------------------------------------------------------\u001b[0m",
      "\u001b[1;31mTypeError\u001b[0m                                 Traceback (most recent call last)",
      "\u001b[1;32m<ipython-input-49-d8523a9dd431>\u001b[0m in \u001b[0;36m<module>\u001b[1;34m\u001b[0m\n\u001b[1;32m----> 1\u001b[1;33m \u001b[0mt1\u001b[0m\u001b[1;33m[\u001b[0m\u001b[1;36m4\u001b[0m\u001b[1;33m]\u001b[0m\u001b[1;33m=\u001b[0m\u001b[1;34m'전화번호'\u001b[0m\u001b[1;33m\u001b[0m\u001b[1;33m\u001b[0m\u001b[0m\n\u001b[0m",
      "\u001b[1;31mTypeError\u001b[0m: 'tuple' object does not support item assignment"
     ]
    }
   ],
   "source": [
    "t1[4]='전화번호'      # 튜플은 값이 추가되지 않는다"
   ]
  },
  {
   "cell_type": "code",
   "execution_count": 50,
   "id": "adverse-belize",
   "metadata": {},
   "outputs": [
    {
     "name": "stdout",
     "output_type": "stream",
     "text": [
      "(1, 2, 3, 4)\n"
     ]
    }
   ],
   "source": [
    "myTuple=(1,2,3)\n",
    "myList=list(myTuple)\n",
    "myList.append(4)\n",
    "myTuple=tuple(myList)\n",
    "print(myTuple)"
   ]
  },
  {
   "cell_type": "code",
   "execution_count": 61,
   "id": "hourly-rugby",
   "metadata": {},
   "outputs": [
    {
     "name": "stdout",
     "output_type": "stream",
     "text": [
      "{'name': '홍길동', 'phone': '010-1234-5678', 'addr': '청주시 상당구'}\n"
     ]
    }
   ],
   "source": [
    "# 딕셔너리의 생성과 활용\n",
    "\n",
    "dic1 = {'name':'홍길동', 'phone':'010-1234-5678', 'addr':'청주시 상당구'}\n",
    "print(dic1)"
   ]
  },
  {
   "cell_type": "code",
   "execution_count": 78,
   "id": "figured-implement",
   "metadata": {},
   "outputs": [
    {
     "name": "stdout",
     "output_type": "stream",
     "text": [
      "{'addr': '청주시 흥덕구'}\n"
     ]
    }
   ],
   "source": [
    "dic1.pop('name')\n",
    "print(dic1)"
   ]
  },
  {
   "cell_type": "code",
   "execution_count": 64,
   "id": "christian-medicare",
   "metadata": {},
   "outputs": [
    {
     "name": "stdout",
     "output_type": "stream",
     "text": [
      "홍길동\n",
      "홍길동\n"
     ]
    }
   ],
   "source": [
    "print(dic1['name'])         # key 값을 이용해서 data값에 접근\n",
    "print(dic1.get('name'))     # key 값을 이용해서 data값에 접근"
   ]
  },
  {
   "cell_type": "code",
   "execution_count": 76,
   "id": "taken-seeking",
   "metadata": {},
   "outputs": [
    {
     "name": "stdout",
     "output_type": "stream",
     "text": [
      "dict_keys(['name'])\n",
      "dict_values(['춘향'])\n",
      "dict_items([('name', '춘향')])\n",
      "True\n",
      "{'name': '춘향', 'addr': '청주시 흥덕구'}\n"
     ]
    }
   ],
   "source": [
    "print(dic1.keys())\n",
    "print(dic1.values())\n",
    "\n",
    "print(dic1.items())\n",
    "\n",
    "\n",
    "print('name' in dic1)\n",
    "\n",
    "dic1['name']='춘향'\n",
    "dic1['addr']='청주시 흥덕구'\n",
    "print(dic1)\n"
   ]
  },
  {
   "cell_type": "code",
   "execution_count": 79,
   "id": "charitable-paragraph",
   "metadata": {},
   "outputs": [
    {
     "name": "stdout",
     "output_type": "stream",
     "text": [
      "{'o', 'l', 'e', 'h'}\n"
     ]
    }
   ],
   "source": [
    "s1 = set('hellolllllllllllllllllll')\n",
    "print(s1)"
   ]
  },
  {
   "cell_type": "code",
   "execution_count": 91,
   "id": "adequate-cemetery",
   "metadata": {},
   "outputs": [
    {
     "name": "stdout",
     "output_type": "stream",
     "text": [
      "{4, 5, 6}\n",
      "{1, 2, 3, 4, 5, 6, 7, 8, 9}\n",
      "{1, 2, 3}\n",
      "{4, 5, 6}\n",
      "{1, 2, 3, 4, 5, 6, 7, 8, 9}\n",
      "{1, 2, 3}\n"
     ]
    }
   ],
   "source": [
    "# 집합 연산\n",
    "\n",
    "s1 = set([1,2,3,4,5,6])\n",
    "s2 = set([4,5,6,7,8,9])\n",
    "\n",
    "print(s1 & s2) #s1.intersection(s2) 교집합\n",
    "print(s1 | s2) #s1.union(s2)    합집합\n",
    "print(s1 - s2) #s1.difference(s2)   차집합\n",
    "\n",
    "print(s1.intersection(s2))\n",
    "print(s1.union(s2))\n",
    "print(s1.difference(s2))"
   ]
  },
  {
   "cell_type": "code",
   "execution_count": 93,
   "id": "eligible-gates",
   "metadata": {},
   "outputs": [
    {
     "data": {
      "text/plain": [
       "set"
      ]
     },
     "execution_count": 93,
     "metadata": {},
     "output_type": "execute_result"
    }
   ],
   "source": [
    "s3={1,2,3}\n",
    "type(s3)"
   ]
  },
  {
   "cell_type": "code",
   "execution_count": null,
   "id": "spread-shepherd",
   "metadata": {},
   "outputs": [],
   "source": []
  },
  {
   "cell_type": "code",
   "execution_count": 96,
   "id": "steady-shell",
   "metadata": {},
   "outputs": [
    {
     "ename": "SyntaxError",
     "evalue": "invalid syntax (<ipython-input-96-eff00e97caf4>, line 1)",
     "output_type": "error",
     "traceback": [
      "\u001b[1;36m  File \u001b[1;32m\"<ipython-input-96-eff00e97caf4>\"\u001b[1;36m, line \u001b[1;32m1\u001b[0m\n\u001b[1;33m    s3.add(4):    #집합.add() : 집합에 새로운 값 추가.\u001b[0m\n\u001b[1;37m                  ^\u001b[0m\n\u001b[1;31mSyntaxError\u001b[0m\u001b[1;31m:\u001b[0m invalid syntax\n"
     ]
    }
   ],
   "source": [
    "s3.add(4):    #집합.add() : 집합에 새로운 값 추가.\n",
    "#집합.update() : 집합에 여러 개의 값을 한꺼번에 추가\n",
    "#집합.remove() : 집합에서 특정 값을 제거\n"
   ]
  },
  {
   "cell_type": "code",
   "execution_count": null,
   "id": "relevant-parks",
   "metadata": {},
   "outputs": [],
   "source": []
  }
 ],
 "metadata": {
  "kernelspec": {
   "display_name": "Python 3",
   "language": "python",
   "name": "python3"
  },
  "language_info": {
   "codemirror_mode": {
    "name": "ipython",
    "version": 3
   },
   "file_extension": ".py",
   "mimetype": "text/x-python",
   "name": "python",
   "nbconvert_exporter": "python",
   "pygments_lexer": "ipython3",
   "version": "3.9.2"
  }
 },
 "nbformat": 4,
 "nbformat_minor": 5
}
