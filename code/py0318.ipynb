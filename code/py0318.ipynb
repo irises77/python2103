{
 "cells": [
  {
   "cell_type": "markdown",
   "id": "descending-wright",
   "metadata": {},
   "source": [
    "### 함수 Function의 정의\n",
    "특정한 기능을 수행하는 연관된 코드들의 집합\n",
    "\n",
    "### 함수 Function의 구문 Syntax\n",
    "```python\n",
    "def functionName(parameters):\n",
    "    statements\n",
    "    ....\n",
    "    return value\n",
    "```\n",
    "### 함수 Functhion의 사용(호출call)\n",
    "...\n",
    "functionName(parameters)                # 리턴값이 없을 때, 단순한 함수 호출\n",
    "variabies = functionName(parameters)    # 리턴값이 있을 때, 함수로부터 값을 받아서 변수에 대입\n",
    "...\n"
   ]
  },
  {
   "cell_type": "code",
   "execution_count": 1,
   "id": "pharmaceutical-entertainment",
   "metadata": {},
   "outputs": [],
   "source": [
    "def greet(name):\n",
    "    print('hello, ' + name + ', good morning')"
   ]
  },
  {
   "cell_type": "code",
   "execution_count": 3,
   "id": "angry-imagination",
   "metadata": {},
   "outputs": [
    {
     "name": "stdout",
     "output_type": "stream",
     "text": [
      "hello, 채민님, good morning\n"
     ]
    }
   ],
   "source": [
    "greet('채민님')"
   ]
  },
  {
   "cell_type": "code",
   "execution_count": 4,
   "id": "dental-black",
   "metadata": {},
   "outputs": [],
   "source": [
    "def greet(name, time):\n",
    "    print('hello, ' + name + time)"
   ]
  },
  {
   "cell_type": "code",
   "execution_count": 6,
   "id": "handled-ready",
   "metadata": {},
   "outputs": [
    {
     "name": "stdout",
     "output_type": "stream",
     "text": [
      "hello, 채민님 아침은 드셨나요?\n"
     ]
    }
   ],
   "source": [
    "greet('채민님',' 아침은 드셨나요?')"
   ]
  },
  {
   "cell_type": "code",
   "execution_count": 11,
   "id": "portuguese-xerox",
   "metadata": {},
   "outputs": [],
   "source": [
    "def greet(name, time = ' 아침은 드셨나요?'):\n",
    "    print('hello, ' + name + time)"
   ]
  },
  {
   "cell_type": "code",
   "execution_count": 7,
   "id": "atlantic-clause",
   "metadata": {},
   "outputs": [
    {
     "name": "stdout",
     "output_type": "stream",
     "text": [
      "hello, 채민님 좋은 날씨네요\n"
     ]
    }
   ],
   "source": [
    "greet('채민님',' 좋은 날씨네요')"
   ]
  },
  {
   "cell_type": "code",
   "execution_count": 12,
   "id": "crude-moisture",
   "metadata": {},
   "outputs": [
    {
     "name": "stdout",
     "output_type": "stream",
     "text": [
      "hello, 채민님 아침은 드셨나요?\n"
     ]
    }
   ],
   "source": [
    "greet('채민님')"
   ]
  },
  {
   "cell_type": "code",
   "execution_count": 13,
   "id": "yellow-professional",
   "metadata": {},
   "outputs": [
    {
     "name": "stdout",
     "output_type": "stream",
     "text": [
      "30\n",
      "200\n"
     ]
    }
   ],
   "source": [
    "def functionAdd(num1, num2):\n",
    "    return num1 + num2, num1 * num2\n",
    "\n",
    "r1, r2 = functionAdd(10,20)\n",
    "print(r1)\n",
    "print(r2)"
   ]
  },
  {
   "cell_type": "code",
   "execution_count": 15,
   "id": "painful-species",
   "metadata": {},
   "outputs": [],
   "source": [
    "def abs_value(number):\n",
    "    if number >=0:\n",
    "        return number\n",
    "    else:\n",
    "        return -number"
   ]
  },
  {
   "cell_type": "code",
   "execution_count": 16,
   "id": "handy-imagination",
   "metadata": {},
   "outputs": [
    {
     "data": {
      "text/plain": [
       "5"
      ]
     },
     "execution_count": 16,
     "metadata": {},
     "output_type": "execute_result"
    }
   ],
   "source": [
    "abs_value(-5)"
   ]
  },
  {
   "cell_type": "code",
   "execution_count": 19,
   "id": "average-japanese",
   "metadata": {},
   "outputs": [
    {
     "name": "stdout",
     "output_type": "stream",
     "text": [
      "2\n",
      "2\n"
     ]
    }
   ],
   "source": [
    "# 두 수를 패러미터로 전달받아, 몫과 나머지를 반환하는 함수를 선언하고, 10과 4를 패러미터로 전달하여\n",
    "# 실행을 확인해보세요.\n",
    "\n",
    "def function(num1, num2):\n",
    "    return num1 // num2, num1 % num2\n",
    "\n",
    "r1, r2 = function(10, 4)\n",
    "print(r1)\n",
    "print(r2)\n"
   ]
  },
  {
   "cell_type": "code",
   "execution_count": 20,
   "id": "protective-activity",
   "metadata": {},
   "outputs": [
    {
     "name": "stdout",
     "output_type": "stream",
     "text": [
      "(1,)\n",
      "1\n",
      "(1, 2)\n",
      "3\n",
      "(1, 2, 3)\n",
      "6\n"
     ]
    }
   ],
   "source": [
    "def varSum(*numbers):\n",
    "    print(numbers)\n",
    "    sum = 0\n",
    "    for number in numbers:\n",
    "        sum += number\n",
    "    return sum\n",
    "\n",
    "print(varSum(1))\n",
    "print(varSum(1,2))\n",
    "print(varSum(1,2,3))"
   ]
  },
  {
   "cell_type": "code",
   "execution_count": 22,
   "id": "upset-constraint",
   "metadata": {},
   "outputs": [
    {
     "name": "stdout",
     "output_type": "stream",
     "text": [
      "이름:  홍길동\n",
      "나이:  19\n",
      "주소:  청주시 상당구\n"
     ]
    }
   ],
   "source": [
    "def personal_info(name,age,add):\n",
    "    print('이름: ',name)\n",
    "    print('나이: ',age)\n",
    "    print('주소: ',add)\n",
    "    \n",
    "personal_info('홍길동', 19,'청주시 상당구')"
   ]
  },
  {
   "cell_type": "code",
   "execution_count": 24,
   "id": "engaged-attachment",
   "metadata": {},
   "outputs": [
    {
     "name": "stdout",
     "output_type": "stream",
     "text": [
      "이름:  홍길동\n",
      "나이:  19\n",
      "주소:  청주시 상당구\n"
     ]
    }
   ],
   "source": [
    "def personal_info(name,age,add):\n",
    "    print('이름: ',name)\n",
    "    print('나이: ',age)\n",
    "    print('주소: ',add)\n",
    "    \n",
    "personal_info(age=19, add='청주시 상당구', name='홍길동')"
   ]
  },
  {
   "cell_type": "code",
   "execution_count": 25,
   "id": "secret-jesus",
   "metadata": {},
   "outputs": [],
   "source": [
    "# 재귀호출 Factorial 2!=2*1  3!=3*2*1  N!=N*(N-1)!\n",
    "\n",
    "def factorial(number):  # 3, 2, 1\n",
    "    if number == 1:\n",
    "        return 1\n",
    "    else :\n",
    "        return number * factorial(number-1)   # 2*1   3*2"
   ]
  },
  {
   "cell_type": "code",
   "execution_count": 27,
   "id": "eligible-measure",
   "metadata": {},
   "outputs": [
    {
     "data": {
      "text/plain": [
       "6"
      ]
     },
     "execution_count": 27,
     "metadata": {},
     "output_type": "execute_result"
    }
   ],
   "source": [
    "factorial(3)"
   ]
  },
  {
   "cell_type": "code",
   "execution_count": 28,
   "id": "exceptional-black",
   "metadata": {},
   "outputs": [
    {
     "name": "stdout",
     "output_type": "stream",
     "text": [
      "3\n",
      "3\n"
     ]
    }
   ],
   "source": [
    "def add(a, b):\n",
    "    return a+b\n",
    "print(add(1,2))\n",
    "\n",
    "print((lambda a, b:a+b)(1,2))"
   ]
  },
  {
   "cell_type": "code",
   "execution_count": 2,
   "id": "editorial-parliament",
   "metadata": {},
   "outputs": [
    {
     "name": "stdout",
     "output_type": "stream",
     "text": [
      "한국아이티\n",
      "이성종\n",
      "이성종\n"
     ]
    }
   ],
   "source": [
    "# 지역변수Local variable vs 전역변수global variable\n",
    "\n",
    "teacher= '한국아이티'\n",
    "\n",
    "print(teacher)\n",
    "def R703():\n",
    "    global teacher\n",
    "    teacher = '이성종'\n",
    "    print(teacher)\n",
    "    \n",
    "R703()\n",
    "print(teacher)"
   ]
  }
 ],
 "metadata": {
  "kernelspec": {
   "display_name": "Python 3",
   "language": "python",
   "name": "python3"
  },
  "language_info": {
   "codemirror_mode": {
    "name": "ipython",
    "version": 3
   },
   "file_extension": ".py",
   "mimetype": "text/x-python",
   "name": "python",
   "nbconvert_exporter": "python",
   "pygments_lexer": "ipython3",
   "version": "3.9.2"
  }
 },
 "nbformat": 4,
 "nbformat_minor": 5
}
