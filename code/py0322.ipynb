{
 "cells": [
  {
   "cell_type": "code",
   "execution_count": 24,
   "id": "architectural-attachment",
   "metadata": {},
   "outputs": [
    {
     "ename": "SyntaxError",
     "evalue": "expression cannot contain assignment, perhaps you meant \"==\"? (<ipython-input-24-78efb08b479f>, line 10)",
     "output_type": "error",
     "traceback": [
      "\u001b[1;36m  File \u001b[1;32m\"<ipython-input-24-78efb08b479f>\"\u001b[1;36m, line \u001b[1;32m10\u001b[0m\n\u001b[1;33m    print(self.name ='hello')\u001b[0m\n\u001b[1;37m          ^\u001b[0m\n\u001b[1;31mSyntaxError\u001b[0m\u001b[1;31m:\u001b[0m expression cannot contain assignment, perhaps you meant \"==\"?\n"
     ]
    }
   ],
   "source": [
    "# define class\n",
    "class Person:      # class 클래스이름 :\n",
    "    # 속성리스트\n",
    "    def __init__() :\n",
    "        self.name = ''\n",
    "        self.age = 0\n",
    " \n",
    "    # 메서드\n",
    "    def greeting(self):\n",
    "        print(self.name ='hello')\n",
    "        \n",
    "    def showinfo(self):\n",
    "        print(self.name, self.age)\n",
    "        \n",
    "hong = Person()  # 객체변수(인스턴스화) = 클래스생성자()  \n",
    "                 # person클래스로부터 객체를 받아들이고 hong이라고 부르겠다\n",
    "hong.name = '홍길동'    # hong의 이름은 홍길동\n",
    "hong.age = 19           # hong의 나이는 19\n",
    "hong.greeting()\n",
    "hong.showinfo()\n",
    "\n"
   ]
  },
  {
   "cell_type": "code",
   "execution_count": 56,
   "id": "clear-reliance",
   "metadata": {},
   "outputs": [],
   "source": [
    "class Car:\n",
    "    def __init__(self, color='흰색',speed=0) :   # 매개변수가 있는 생성자\n",
    "        self.color = color\n",
    "        self.speed = speed\n",
    "    \n",
    "    def upSpeed(self, number):\n",
    "        self.speed += self.speed + number\n",
    "    def downSpeed(self, number):\n",
    "        self.speed -= number\n",
    "    def showinfo(self):\n",
    "        print(self.color, self.speed)"
   ]
  },
  {
   "cell_type": "code",
   "execution_count": 57,
   "id": "requested-somewhere",
   "metadata": {},
   "outputs": [
    {
     "name": "stdout",
     "output_type": "stream",
     "text": [
      "흰색 0\n"
     ]
    }
   ],
   "source": [
    "car1=Car()\n",
    "car1.showinfo()"
   ]
  },
  {
   "cell_type": "code",
   "execution_count": 50,
   "id": "fossil-queensland",
   "metadata": {},
   "outputs": [],
   "source": [
    "redCar=Car()\n",
    "redCar.color='레드'\n",
    "redCar.speed=0"
   ]
  },
  {
   "cell_type": "code",
   "execution_count": 51,
   "id": "geographic-campbell",
   "metadata": {},
   "outputs": [],
   "source": [
    "redCar.speed=100"
   ]
  },
  {
   "cell_type": "code",
   "execution_count": 52,
   "id": "banner-physiology",
   "metadata": {},
   "outputs": [],
   "source": [
    "redCar.upSpeed(30)\n",
    "redCar.downSpeed(10)"
   ]
  },
  {
   "cell_type": "code",
   "execution_count": 53,
   "id": "collect-gibraltar",
   "metadata": {},
   "outputs": [
    {
     "name": "stdout",
     "output_type": "stream",
     "text": [
      "레드 220\n"
     ]
    }
   ],
   "source": [
    "redCar.showinfo()"
   ]
  },
  {
   "cell_type": "code",
   "execution_count": 36,
   "id": "temporal-possible",
   "metadata": {},
   "outputs": [
    {
     "name": "stdout",
     "output_type": "stream",
     "text": [
      "검정 130\n"
     ]
    }
   ],
   "source": [
    "myCar=Car()\n",
    "myCar.color='검정'\n",
    "myCar.upSpeed(130)\n",
    "myCar.showinfo()"
   ]
  },
  {
   "cell_type": "code",
   "execution_count": 70,
   "id": "damaged-wells",
   "metadata": {},
   "outputs": [],
   "source": [
    "class person:\n",
    "    def __init__(self, name, age, add, wal):\n",
    "        self.name=name\n",
    "        self.age=age\n",
    "        self.add=add\n",
    "        self.__wal=wal  #비공개속성\n",
    "    def updatewal(self, money):\n",
    "        self.__wal += money\n",
    "        \n",
    "    def showwal(self):\n",
    "        print(self.__wallet)\n",
    "        \n",
    "hong=person(\"홍길동\",19,\"청주시 상당구\", 10000)"
   ]
  },
  {
   "cell_type": "code",
   "execution_count": 72,
   "id": "unexpected-conflict",
   "metadata": {},
   "outputs": [],
   "source": [
    "# hong.__wal-=10000   #비공개 속성을 외부에서 엑세스 하려는 시도\n",
    "hong.updatewal(-500)\n",
    "#hong.__showwal()"
   ]
  },
  {
   "cell_type": "code",
   "execution_count": 85,
   "id": "peaceful-utilization",
   "metadata": {},
   "outputs": [
    {
     "ename": "IndentationError",
     "evalue": "unexpected indent (<ipython-input-85-77b9094d8567>, line 3)",
     "output_type": "error",
     "traceback": [
      "\u001b[1;36m  File \u001b[1;32m\"<ipython-input-85-77b9094d8567>\"\u001b[1;36m, line \u001b[1;32m3\u001b[0m\n\u001b[1;33m    count = 0    # 클래스 속성\u001b[0m\n\u001b[1;37m    ^\u001b[0m\n\u001b[1;31mIndentationError\u001b[0m\u001b[1;31m:\u001b[0m unexpected indent\n"
     ]
    }
   ],
   "source": [
    "# class 클래스명 :\n",
    "    # 속성리스트\n",
    "    count = 0    # 클래스 속성\n",
    "    def __init__(self):     # 인스턴스 속성\n",
    "        "
   ]
  },
  {
   "cell_type": "code",
   "execution_count": 86,
   "id": "specific-minneapolis",
   "metadata": {},
   "outputs": [],
   "source": [
    "class person:\n",
    "    # bag=[]    #공백 리스트, 클래스 변수\n",
    "    def __init_(self):\n",
    "        self.bag=[]  # 인스턴스 속성\n",
    "        \n",
    "    def put_bag(self, item):\n",
    "        self.bag.append(item)"
   ]
  },
  {
   "cell_type": "code",
   "execution_count": 87,
   "id": "afraid-meeting",
   "metadata": {},
   "outputs": [
    {
     "ename": "AttributeError",
     "evalue": "'person' object has no attribute 'bag'",
     "output_type": "error",
     "traceback": [
      "\u001b[1;31m---------------------------------------------------------------------------\u001b[0m",
      "\u001b[1;31mAttributeError\u001b[0m                            Traceback (most recent call last)",
      "\u001b[1;32m<ipython-input-87-03fc84c68ccc>\u001b[0m in \u001b[0;36m<module>\u001b[1;34m\u001b[0m\n\u001b[0;32m      1\u001b[0m \u001b[0mjames\u001b[0m\u001b[1;33m=\u001b[0m\u001b[0mperson\u001b[0m\u001b[1;33m(\u001b[0m\u001b[1;33m)\u001b[0m\u001b[1;33m\u001b[0m\u001b[1;33m\u001b[0m\u001b[0m\n\u001b[1;32m----> 2\u001b[1;33m \u001b[0mjames\u001b[0m\u001b[1;33m.\u001b[0m\u001b[0mput_bag\u001b[0m\u001b[1;33m(\u001b[0m\u001b[1;34m'책'\u001b[0m\u001b[1;33m)\u001b[0m\u001b[1;33m\u001b[0m\u001b[1;33m\u001b[0m\u001b[0m\n\u001b[0m\u001b[0;32m      3\u001b[0m \u001b[1;33m\u001b[0m\u001b[0m\n\u001b[0;32m      4\u001b[0m \u001b[0mmaria\u001b[0m\u001b[1;33m=\u001b[0m\u001b[0mperson\u001b[0m\u001b[1;33m(\u001b[0m\u001b[1;33m)\u001b[0m\u001b[1;33m\u001b[0m\u001b[1;33m\u001b[0m\u001b[0m\n\u001b[0;32m      5\u001b[0m \u001b[0mmaria\u001b[0m\u001b[1;33m.\u001b[0m\u001b[0mput_bag\u001b[0m\u001b[1;33m(\u001b[0m\u001b[1;34m'열쇠'\u001b[0m\u001b[1;33m)\u001b[0m\u001b[1;33m\u001b[0m\u001b[1;33m\u001b[0m\u001b[0m\n",
      "\u001b[1;32m<ipython-input-86-f0f9b289b007>\u001b[0m in \u001b[0;36mput_bag\u001b[1;34m(self, item)\u001b[0m\n\u001b[0;32m      5\u001b[0m \u001b[1;33m\u001b[0m\u001b[0m\n\u001b[0;32m      6\u001b[0m     \u001b[1;32mdef\u001b[0m \u001b[0mput_bag\u001b[0m\u001b[1;33m(\u001b[0m\u001b[0mself\u001b[0m\u001b[1;33m,\u001b[0m \u001b[0mitem\u001b[0m\u001b[1;33m)\u001b[0m\u001b[1;33m:\u001b[0m\u001b[1;33m\u001b[0m\u001b[1;33m\u001b[0m\u001b[0m\n\u001b[1;32m----> 7\u001b[1;33m         \u001b[0mself\u001b[0m\u001b[1;33m.\u001b[0m\u001b[0mbag\u001b[0m\u001b[1;33m.\u001b[0m\u001b[0mappend\u001b[0m\u001b[1;33m(\u001b[0m\u001b[0mitem\u001b[0m\u001b[1;33m)\u001b[0m\u001b[1;33m\u001b[0m\u001b[1;33m\u001b[0m\u001b[0m\n\u001b[0m",
      "\u001b[1;31mAttributeError\u001b[0m: 'person' object has no attribute 'bag'"
     ]
    }
   ],
   "source": [
    "james=person()\n",
    "james.put_bag('책')\n",
    "\n",
    "maria=person()\n",
    "maria.put_bag('열쇠')"
   ]
  },
  {
   "cell_type": "markdown",
   "id": "popular-company",
   "metadata": {},
   "source": [
    "james.put_bag('노트북')"
   ]
  },
  {
   "cell_type": "code",
   "execution_count": 81,
   "id": "effective-stack",
   "metadata": {},
   "outputs": [
    {
     "ename": "AttributeError",
     "evalue": "'person' object has no attribute 'bag'",
     "output_type": "error",
     "traceback": [
      "\u001b[1;31m---------------------------------------------------------------------------\u001b[0m",
      "\u001b[1;31mAttributeError\u001b[0m                            Traceback (most recent call last)",
      "\u001b[1;32m<ipython-input-81-42be8132869e>\u001b[0m in \u001b[0;36m<module>\u001b[1;34m\u001b[0m\n\u001b[1;32m----> 1\u001b[1;33m \u001b[0mprint\u001b[0m\u001b[1;33m(\u001b[0m\u001b[0mjames\u001b[0m\u001b[1;33m.\u001b[0m\u001b[0mbag\u001b[0m\u001b[1;33m)\u001b[0m\u001b[1;33m\u001b[0m\u001b[1;33m\u001b[0m\u001b[0m\n\u001b[0m",
      "\u001b[1;31mAttributeError\u001b[0m: 'person' object has no attribute 'bag'"
     ]
    }
   ],
   "source": [
    "print(james.bag)"
   ]
  },
  {
   "cell_type": "code",
   "execution_count": 90,
   "id": "boolean-zoning",
   "metadata": {},
   "outputs": [],
   "source": [
    "class calc:\n",
    "    @staticmethod      #정적메소드 정의\n",
    "    def add(a,b):\n",
    "        print(a+b)\n",
    "    @staticmethod      #정적메소드 정의\n",
    "    def mul(a,b):\n",
    "        print(a*b)\n",
    "        \n",
    "# mycalc=calc()"
   ]
  },
  {
   "cell_type": "code",
   "execution_count": 91,
   "id": "toxic-broadway",
   "metadata": {},
   "outputs": [
    {
     "name": "stdout",
     "output_type": "stream",
     "text": [
      "3\n"
     ]
    }
   ],
   "source": [
    "calc.add(1,2)"
   ]
  },
  {
   "cell_type": "code",
   "execution_count": 92,
   "id": "confirmed-filing",
   "metadata": {},
   "outputs": [],
   "source": [
    "class person:\n",
    "    count=0    # class 속성\n",
    "    def __init__(self):\n",
    "        person.count +=1\n",
    "    @classmethod\n",
    "    def print_count(cls):\n",
    "        print(\"{0}명 생성되었습니다.\".format(cls.count))"
   ]
  },
  {
   "cell_type": "code",
   "execution_count": 93,
   "id": "bottom-orchestra",
   "metadata": {},
   "outputs": [],
   "source": [
    "james=person"
   ]
  },
  {
   "cell_type": "code",
   "execution_count": 94,
   "id": "laughing-graphic",
   "metadata": {},
   "outputs": [
    {
     "name": "stdout",
     "output_type": "stream",
     "text": [
      "0명 생성되었습니다.\n"
     ]
    }
   ],
   "source": [
    "person.print_count()"
   ]
  }
 ],
 "metadata": {
  "kernelspec": {
   "display_name": "Python 3",
   "language": "python",
   "name": "python3"
  },
  "language_info": {
   "codemirror_mode": {
    "name": "ipython",
    "version": 3
   },
   "file_extension": ".py",
   "mimetype": "text/x-python",
   "name": "python",
   "nbconvert_exporter": "python",
   "pygments_lexer": "ipython3",
   "version": "3.9.2"
  }
 },
 "nbformat": 4,
 "nbformat_minor": 5
}
