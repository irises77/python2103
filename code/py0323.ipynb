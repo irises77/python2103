{
 "cells": [
  {
   "cell_type": "code",
   "execution_count": 2,
   "id": "falling-january",
   "metadata": {},
   "outputs": [],
   "source": [
    "# class inheritance 클래스 상속 사용하기\n",
    "# 베이스클래스로부터 서브 클래스 만들기\n",
    "# class baseclass:\n",
    "#      # baseclass code\n",
    "\n",
    "# class subclass(baseclass) :\n",
    "#      # subclass code\n",
    "\n",
    "class person():\n",
    "    def greeting(self):\n",
    "        print('안녕하세요')\n",
    "        \n",
    "class student(person):\n",
    "    def study(self):\n",
    "        print('공부하기')\n",
    "        \n"
   ]
  },
  {
   "cell_type": "code",
   "execution_count": 3,
   "id": "comparative-genius",
   "metadata": {},
   "outputs": [
    {
     "name": "stdout",
     "output_type": "stream",
     "text": [
      "공부하기\n"
     ]
    }
   ],
   "source": [
    "hong = student()\n",
    "hong.study()"
   ]
  },
  {
   "cell_type": "code",
   "execution_count": 4,
   "id": "according-reasoning",
   "metadata": {},
   "outputs": [
    {
     "name": "stdout",
     "output_type": "stream",
     "text": [
      "안녕하세요\n"
     ]
    }
   ],
   "source": [
    "hong.greeting()"
   ]
  },
  {
   "cell_type": "code",
   "execution_count": 5,
   "id": "reserved-class",
   "metadata": {},
   "outputs": [
    {
     "data": {
      "text/plain": [
       "True"
      ]
     },
     "execution_count": 5,
     "metadata": {},
     "output_type": "execute_result"
    }
   ],
   "source": [
    "issubclass(student, person)"
   ]
  },
  {
   "cell_type": "code",
   "execution_count": 6,
   "id": "optimum-clinic",
   "metadata": {},
   "outputs": [
    {
     "data": {
      "text/plain": [
       "False"
      ]
     },
     "execution_count": 6,
     "metadata": {},
     "output_type": "execute_result"
    }
   ],
   "source": [
    "issubclass(person,student)"
   ]
  },
  {
   "cell_type": "code",
   "execution_count": 13,
   "id": "small-startup",
   "metadata": {},
   "outputs": [],
   "source": [
    "class polygon:\n",
    "    def __init__(self, noOfsides):\n",
    "        self.n = noOfsides\n",
    "        self.sides = [0 for i in range(noOfsides)]  \n",
    "    def inputsides(self):\n",
    "        self.sides = [float(input(str(i+1) + '번째 변의 길이 ')) for i in range(self.n)]\n",
    "    def dispsides(self):\n",
    "        for i in range(self.n):\n",
    "            print(i+1,'번째 변 :', self.sides[i])\n",
    "        "
   ]
  },
  {
   "cell_type": "code",
   "execution_count": 16,
   "id": "unnecessary-camera",
   "metadata": {},
   "outputs": [],
   "source": [
    "class triangle(polygon):\n",
    "    def __init__(self):\n",
    "        polygon.__init__(self, 3)\n",
    "        \n",
    "    def findarea(self):\n",
    "        a, b, c = self.sides\n",
    "        s = (a + b + c) / 2\n",
    "        area = (s*(s-a)*(s-b)*(s-c))**0.5\n",
    "        print('삼각형의 넓이 : %10.2f'%area)"
   ]
  },
  {
   "cell_type": "code",
   "execution_count": 17,
   "id": "interested-rating",
   "metadata": {},
   "outputs": [],
   "source": [
    "t = triangle()"
   ]
  },
  {
   "cell_type": "code",
   "execution_count": 18,
   "id": "grateful-channels",
   "metadata": {},
   "outputs": [
    {
     "name": "stdout",
     "output_type": "stream",
     "text": [
      "1번째 변의 길이 3\n",
      "2번째 변의 길이 5\n",
      "3번째 변의 길이 4\n"
     ]
    }
   ],
   "source": [
    "t.inputsides()"
   ]
  },
  {
   "cell_type": "code",
   "execution_count": 19,
   "id": "arbitrary-process",
   "metadata": {},
   "outputs": [
    {
     "name": "stdout",
     "output_type": "stream",
     "text": [
      "삼각형의 넓이 :       6.00\n"
     ]
    }
   ],
   "source": [
    "t.findarea()"
   ]
  },
  {
   "cell_type": "code",
   "execution_count": 25,
   "id": "infectious-reach",
   "metadata": {},
   "outputs": [],
   "source": [
    "class person:\n",
    "    def __init__(self):\n",
    "        print('person클래스의 생성자')\n",
    "        self.hello = '안녕하세요'\n",
    "        \n",
    "class student(person):\n",
    "    def __init__(self):\n",
    "        super().__init__()\n",
    "        print('student클래스의 생성자')\n",
    "        self.school = '한국아이티'\n",
    "        "
   ]
  },
  {
   "cell_type": "code",
   "execution_count": 26,
   "id": "stretch-elimination",
   "metadata": {},
   "outputs": [
    {
     "name": "stdout",
     "output_type": "stream",
     "text": [
      "person클래스의 생성자\n",
      "student클래스의 생성자\n"
     ]
    }
   ],
   "source": [
    "hong = student()"
   ]
  },
  {
   "cell_type": "code",
   "execution_count": 34,
   "id": "religious-sight",
   "metadata": {},
   "outputs": [],
   "source": [
    "class person:\n",
    "    def greeting(self):\n",
    "        print('안녕하세요')\n",
    "        \n",
    "class student(person):\n",
    "    def greeting(self):\n",
    "        print('건물을 세우고 싶어요.')"
   ]
  },
  {
   "cell_type": "code",
   "execution_count": 35,
   "id": "distinguished-frederick",
   "metadata": {},
   "outputs": [],
   "source": [
    "hong=student()"
   ]
  },
  {
   "cell_type": "code",
   "execution_count": 36,
   "id": "rental-complexity",
   "metadata": {},
   "outputs": [
    {
     "name": "stdout",
     "output_type": "stream",
     "text": [
      "건물을 세우고 싶어요.\n"
     ]
    }
   ],
   "source": [
    "hong.greeting()"
   ]
  },
  {
   "cell_type": "code",
   "execution_count": 38,
   "id": "noble-coverage",
   "metadata": {},
   "outputs": [],
   "source": [
    "class person:\n",
    "    def greeting(self):\n",
    "        print('안녕하세요')\n",
    "        \n",
    "class university:\n",
    "    def mange_credit(self):\n",
    "        print('학점관리')\n",
    "        \n",
    "class undergraduate(person, university):\n",
    "    def study(self):\n",
    "        print('공부하기')"
   ]
  },
  {
   "cell_type": "code",
   "execution_count": 43,
   "id": "israeli-aruba",
   "metadata": {},
   "outputs": [],
   "source": [
    "hong = undergraduate()"
   ]
  },
  {
   "cell_type": "code",
   "execution_count": 44,
   "id": "helpful-teacher",
   "metadata": {},
   "outputs": [
    {
     "name": "stdout",
     "output_type": "stream",
     "text": [
      "공부하기\n",
      "안녕하세요\n",
      "학점관리\n"
     ]
    }
   ],
   "source": [
    "hong.study()\n",
    "hong.greeting()\n",
    "hong.mange_credit()"
   ]
  },
  {
   "cell_type": "code",
   "execution_count": 46,
   "id": "artificial-kenya",
   "metadata": {},
   "outputs": [
    {
     "data": {
      "text/plain": [
       "[int, object]"
      ]
     },
     "execution_count": 46,
     "metadata": {},
     "output_type": "execute_result"
    }
   ],
   "source": [
    "int.mro()"
   ]
  },
  {
   "cell_type": "code",
   "execution_count": 53,
   "id": "equal-handle",
   "metadata": {},
   "outputs": [
    {
     "name": "stdout",
     "output_type": "stream",
     "text": [
      "공부하기\n"
     ]
    }
   ],
   "source": [
    "from abc import *\n",
    "\n",
    "class studentBase(metaclass=ABCMeta):\n",
    "    @abstractmethod\n",
    "    def study(self):\n",
    "        pass\n",
    "    \n",
    "    @abstractmethod\n",
    "    def go_to_school(self):\n",
    "        pass\n",
    "    \n",
    "class student(studentBase):\n",
    "    def study(self):\n",
    "        print('공부하기')\n",
    "    \n",
    "    def go_to_school(self):\n",
    "        pass\n",
    "    \n",
    "james = student()\n",
    "james.study()"
   ]
  },
  {
   "cell_type": "code",
   "execution_count": 58,
   "id": "registered-idaho",
   "metadata": {},
   "outputs": [],
   "source": [
    "class ElementaryStudent(student):\n",
    "    def gotoshcool(self):\n",
    "        print('초등학생이 학교를 가요')"
   ]
  },
  {
   "cell_type": "code",
   "execution_count": 59,
   "id": "bottom-morocco",
   "metadata": {},
   "outputs": [],
   "source": [
    "sooni = ElementaryStudent()"
   ]
  },
  {
   "cell_type": "code",
   "execution_count": 62,
   "id": "manufactured-spine",
   "metadata": {},
   "outputs": [
    {
     "data": {
      "text/plain": [
       "<bound method student.study of <__main__.ElementaryStudent object at 0x00000226D90D7040>>"
      ]
     },
     "execution_count": 62,
     "metadata": {},
     "output_type": "execute_result"
    }
   ],
   "source": [
    "sooni.study"
   ]
  }
 ],
 "metadata": {
  "kernelspec": {
   "display_name": "Python 3",
   "language": "python",
   "name": "python3"
  },
  "language_info": {
   "codemirror_mode": {
    "name": "ipython",
    "version": 3
   },
   "file_extension": ".py",
   "mimetype": "text/x-python",
   "name": "python",
   "nbconvert_exporter": "python",
   "pygments_lexer": "ipython3",
   "version": "3.9.2"
  }
 },
 "nbformat": 4,
 "nbformat_minor": 5
}
