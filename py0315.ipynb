{
 "cells": [
  {
   "cell_type": "markdown",
   "id": "controlling-territory",
   "metadata": {},
   "source": [
    "# If 제어문의 형식\n"
   ]
  },
  {
   "cell_type": "code",
   "execution_count": 2,
   "id": "extensive-fourth",
   "metadata": {},
   "outputs": [
    {
     "name": "stdout",
     "output_type": "stream",
     "text": [
      "숫자를 입력하세요.11\n",
      "홀수입니다\n",
      "프로그램을 종료합니다\n"
     ]
    }
   ],
   "source": [
    "# 홀수 짝수 판단\n",
    "#숫자를 2로 나눈 나머지가 0이면 짝수, 아니면 홀수\n",
    "number=int(input('숫자를 입력하세요.'))\n",
    "if (number %2)==0 : \n",
    "    pass\n",
    "    print('짝수입니다')\n",
    "else :\n",
    "    print('홀수입니다')\n",
    "print('프로그램을 종료합니다')"
   ]
  },
  {
   "cell_type": "code",
   "execution_count": 8,
   "id": "outside-nepal",
   "metadata": {},
   "outputs": [
    {
     "name": "stdout",
     "output_type": "stream",
     "text": [
      "성별을 입력하세요(M:남자/F:여자) : m\n",
      "나이를 입력하세요. : 10\n",
      "10대 이하 남자\n"
     ]
    }
   ],
   "source": [
    "#성별과 연령을 입력받아 판단하는 프로그램을 작성하시오.\n",
    "\n",
    "gender = input(\"성별을 입력하세요(M:남자/F:여자) : \")\n",
    "age = int(input(\"나이를 입력하세요. : \"))\n",
    "if gender == 'M' or gender == 'm' :\n",
    "    if age >= 40 :                    \n",
    "        print(\"40대 이상 남자\")\n",
    "    elif age >= 30 : \n",
    "        print(\"30대 남자\")\n",
    "    elif age >= 20 :\n",
    "        print(\"20대 남자\")\n",
    "    else:\n",
    "        print(\"10대 이하 남자\")\n",
    "else :\n",
    "    if age >= 40 :                     \n",
    "        print(\"40대 이상 여자\")\n",
    "    elif age >= 30 : \n",
    "        print(\"30대 여자\")\n",
    "    elif age >= 20 :\n",
    "        print(\"20대 여자\")\n",
    "    else:\n",
    "        print(\"10대 이하 여자\") "
   ]
  },
  {
   "cell_type": "code",
   "execution_count": null,
   "id": "wrapped-brunswick",
   "metadata": {},
   "outputs": [],
   "source": []
  },
  {
   "cell_type": "code",
   "execution_count": 16,
   "id": "detected-experience",
   "metadata": {},
   "outputs": [
    {
     "ename": "KeyboardInterrupt",
     "evalue": "Interrupted by user",
     "output_type": "error",
     "traceback": [
      "\u001b[1;31m---------------------------------------------------------------------------\u001b[0m",
      "\u001b[1;31mKeyboardInterrupt\u001b[0m                         Traceback (most recent call last)",
      "\u001b[1;32m<ipython-input-16-0bf9bed4538a>\u001b[0m in \u001b[0;36m<module>\u001b[1;34m\u001b[0m\n\u001b[0;32m      6\u001b[0m \u001b[1;33m\u001b[0m\u001b[0m\n\u001b[0;32m      7\u001b[0m \u001b[1;31m#세 과목의 점수를 입력받는다.\u001b[0m\u001b[1;33m\u001b[0m\u001b[1;33m\u001b[0m\u001b[1;33m\u001b[0m\u001b[0m\n\u001b[1;32m----> 8\u001b[1;33m \u001b[0mkor\u001b[0m\u001b[1;33m=\u001b[0m\u001b[0mint\u001b[0m\u001b[1;33m(\u001b[0m\u001b[0minput\u001b[0m\u001b[1;33m(\u001b[0m\u001b[1;34m\"국어 점수 :\"\u001b[0m\u001b[1;33m)\u001b[0m\u001b[1;33m)\u001b[0m\u001b[1;33m\u001b[0m\u001b[1;33m\u001b[0m\u001b[0m\n\u001b[0m\u001b[0;32m      9\u001b[0m \u001b[0mmath\u001b[0m\u001b[1;33m=\u001b[0m\u001b[0mint\u001b[0m\u001b[1;33m(\u001b[0m\u001b[0minput\u001b[0m\u001b[1;33m(\u001b[0m\u001b[1;34m\"수학 점수 :\"\u001b[0m\u001b[1;33m)\u001b[0m\u001b[1;33m)\u001b[0m\u001b[1;33m\u001b[0m\u001b[1;33m\u001b[0m\u001b[0m\n\u001b[0;32m     10\u001b[0m \u001b[0msoc\u001b[0m\u001b[1;33m=\u001b[0m\u001b[0mint\u001b[0m\u001b[1;33m(\u001b[0m\u001b[0minput\u001b[0m\u001b[1;33m(\u001b[0m\u001b[1;34m\"사회 점수 : \"\u001b[0m\u001b[1;33m)\u001b[0m\u001b[1;33m)\u001b[0m\u001b[1;33m\u001b[0m\u001b[1;33m\u001b[0m\u001b[0m\n",
      "\u001b[1;32mc:\\users\\user\\appdata\\local\\programs\\python\\python39\\lib\\site-packages\\ipykernel\\kernelbase.py\u001b[0m in \u001b[0;36mraw_input\u001b[1;34m(self, prompt)\u001b[0m\n\u001b[0;32m    846\u001b[0m                 \u001b[1;34m\"raw_input was called, but this frontend does not support input requests.\"\u001b[0m\u001b[1;33m\u001b[0m\u001b[1;33m\u001b[0m\u001b[0m\n\u001b[0;32m    847\u001b[0m             )\n\u001b[1;32m--> 848\u001b[1;33m         return self._input_request(str(prompt),\n\u001b[0m\u001b[0;32m    849\u001b[0m             \u001b[0mself\u001b[0m\u001b[1;33m.\u001b[0m\u001b[0m_parent_ident\u001b[0m\u001b[1;33m,\u001b[0m\u001b[1;33m\u001b[0m\u001b[1;33m\u001b[0m\u001b[0m\n\u001b[0;32m    850\u001b[0m             \u001b[0mself\u001b[0m\u001b[1;33m.\u001b[0m\u001b[0m_parent_header\u001b[0m\u001b[1;33m,\u001b[0m\u001b[1;33m\u001b[0m\u001b[1;33m\u001b[0m\u001b[0m\n",
      "\u001b[1;32mc:\\users\\user\\appdata\\local\\programs\\python\\python39\\lib\\site-packages\\ipykernel\\kernelbase.py\u001b[0m in \u001b[0;36m_input_request\u001b[1;34m(self, prompt, ident, parent, password)\u001b[0m\n\u001b[0;32m    890\u001b[0m             \u001b[1;32mexcept\u001b[0m \u001b[0mKeyboardInterrupt\u001b[0m\u001b[1;33m:\u001b[0m\u001b[1;33m\u001b[0m\u001b[1;33m\u001b[0m\u001b[0m\n\u001b[0;32m    891\u001b[0m                 \u001b[1;31m# re-raise KeyboardInterrupt, to truncate traceback\u001b[0m\u001b[1;33m\u001b[0m\u001b[1;33m\u001b[0m\u001b[1;33m\u001b[0m\u001b[0m\n\u001b[1;32m--> 892\u001b[1;33m                 \u001b[1;32mraise\u001b[0m \u001b[0mKeyboardInterrupt\u001b[0m\u001b[1;33m(\u001b[0m\u001b[1;34m\"Interrupted by user\"\u001b[0m\u001b[1;33m)\u001b[0m \u001b[1;32mfrom\u001b[0m \u001b[1;32mNone\u001b[0m\u001b[1;33m\u001b[0m\u001b[1;33m\u001b[0m\u001b[0m\n\u001b[0m\u001b[0;32m    893\u001b[0m             \u001b[1;32mexcept\u001b[0m \u001b[0mException\u001b[0m \u001b[1;32mas\u001b[0m \u001b[0me\u001b[0m\u001b[1;33m:\u001b[0m\u001b[1;33m\u001b[0m\u001b[1;33m\u001b[0m\u001b[0m\n\u001b[0;32m    894\u001b[0m                 \u001b[0mself\u001b[0m\u001b[1;33m.\u001b[0m\u001b[0mlog\u001b[0m\u001b[1;33m.\u001b[0m\u001b[0mwarning\u001b[0m\u001b[1;33m(\u001b[0m\u001b[1;34m\"Invalid Message:\"\u001b[0m\u001b[1;33m,\u001b[0m \u001b[0mexc_info\u001b[0m\u001b[1;33m=\u001b[0m\u001b[1;32mTrue\u001b[0m\u001b[1;33m)\u001b[0m\u001b[1;33m\u001b[0m\u001b[1;33m\u001b[0m\u001b[0m\n",
      "\u001b[1;31mKeyboardInterrupt\u001b[0m: Interrupted by user"
     ]
    }
   ],
   "source": [
    "#국어, 산수, 사회 세 과목의 점수를 입력받아 총점과 평균을 구하고,\n",
    "#평균이 90점 이상이면 A등급을, 80점 이상이면 B등급을, 70점 이상이면 C등급을\n",
    "#그 외, 즉 69점 이하이면 F 등급을 부여하는 프로그램을 작성하시오.\n",
    "\n",
    "#알고리즘 ===> Pseudo Code 의사코드 ; \n",
    "\n",
    "#세 과목의 점수를 입력받는다.\n",
    "kor=int(input(\"국어 점수 :\"))\n",
    "math=int(input(\"수학 점수 :\"))\n",
    "soc=int(input(\"사회 점수 : \"))\n",
    "\n",
    "#총점을 구한다.\n",
    "total=kor+math+soc\n",
    "\n",
    "#평균을 구한다.\n",
    "ave=tatal/3\n",
    "\n",
    "#평균이 90점 이상이면 A라고 한다.\n",
    "if ave>=90:\n",
    "    grade='A'\n",
    "#그게 아니라 80점 이상이면 B라고 한다.\n",
    "elif ave>=80:\n",
    "    grade='B'\n",
    "#그게 아니라 70점 이상이면 C라고 한다.\n",
    "elif ave>=70:\n",
    "    grade='C'\n",
    "#그것도 아니면 F라고 한다.\n",
    "else:\n",
    "    grade='F'\n",
    "#성적을 출력한다.\n",
    "\n",
    "#print(grade)\n",
    "#총점,평균,성적을 출력한다.\n",
    "\n",
    "#print((\"총점:{0:5d} 평균:{1:5.1f} 등급:{2:3s}\") \"\\.format(tot,ave,grade))"
   ]
  },
  {
   "cell_type": "code",
   "execution_count": 21,
   "id": "rolled-synthetic",
   "metadata": {},
   "outputs": [
    {
     "name": "stdout",
     "output_type": "stream",
     "text": [
      "탑승자의 나이:5\n",
      "버스요금은 무료입니다.\n",
      "9000\n"
     ]
    }
   ],
   "source": [
    "age=int(input('탑승자의 나이:'))\n",
    "balance=9000\n",
    "if age>=7 and age<=12:\n",
    "    busfree=650\n",
    "elif age>=13 and age<=18:\n",
    "    busfree=1050\n",
    "elif age>=19:\n",
    "     busfree=1250\n",
    "else :\n",
    "    print('버스요금은 무료입니다.')\n",
    "    busfree=0\n",
    "print(balance-busfree)"
   ]
  },
  {
   "cell_type": "code",
   "execution_count": null,
   "id": "encouraging-procurement",
   "metadata": {},
   "outputs": [],
   "source": [
    "#삼항 연산자를 사용한 if문\n",
    "\n",
    "score = 55\n",
    "result = ''\n",
    "if score >= 60:\n",
    "    result = '합격'\n",
    "else :\n",
    "    result = '불합격'\n",
    "print(result)\n",
    "\n",
    "#다음과 같이 삼항 연산자를 사용해 한 줄로 줄일 수 있다.\n",
    "\n",
    "score = 50\n",
    "result = ''\n",
    "result = '합격' if score >= 60 else '불합격'\n",
    "print(result)"
   ]
  },
  {
   "cell_type": "code",
   "execution_count": 26,
   "id": "absolute-province",
   "metadata": {},
   "outputs": [
    {
     "name": "stdout",
     "output_type": "stream",
     "text": [
      "for문을 공부중입니다. i값: 0\n",
      "for문을 공부중입니다. i값: 2\n",
      "for문을 공부중입니다. i값: 4\n",
      "for문을 공부중입니다. i값: 6\n",
      "for문을 공부중입니다. i값: 8\n",
      "for문을 공부중입니다. i값: 10\n"
     ]
    }
   ],
   "source": [
    "for i in range(0,11,2):                 # [0,1,2]\n",
    "        print(\"for문을 공부중입니다.\",'i값:',i)\n"
   ]
  },
  {
   "cell_type": "code",
   "execution_count": 35,
   "id": "pressing-matrix",
   "metadata": {},
   "outputs": [
    {
     "name": "stdout",
     "output_type": "stream",
     "text": [
      "1부터 10까지의 합 :55\n",
      "1부터 10까지의 숫자 중 3의 배수의 합계:18\n",
      "1부터 10까지의 숫자 중 3의 배수의 합계:18\n"
     ]
    }
   ],
   "source": [
    "#1부터 10까지의 합계를 구하는 프로그램\n",
    "sum=0\n",
    "for number in range(1,11):\n",
    "    sum+=number\n",
    "print(\"1부터 10까지의 합 :%d\" %sum)\n",
    "    \n",
    "#1부터 10까지의 숫자 중 3의 배수의 합계\n",
    "sum=0\n",
    "i=0\n",
    "for i in range(1,11):\n",
    "    if i % 3 != 0:\n",
    "        continue\n",
    "    sum +=i\n",
    "print(\"1부터 10까지의 숫자 중 3의 배수의 합계:%d\" %sum)\n",
    "\n",
    "sum=0\n",
    "for number in range(11):    #[0 ~ 10]\n",
    "    if number % 3 == 0 :\n",
    "        sum += number\n",
    "print(\"1부터 10까지의 숫자 중 3의 배수의 합계:%d\" %sum)"
   ]
  },
  {
   "cell_type": "code",
   "execution_count": 39,
   "id": "medical-israeli",
   "metadata": {},
   "outputs": [
    {
     "name": "stdout",
     "output_type": "stream",
     "text": [
      "10\n",
      "kor\n",
      "30\n",
      "true\n",
      "50\n"
     ]
    }
   ],
   "source": [
    "a=[10,'kor',30,'true',50]  #tuple의 생성\n",
    "\n",
    "for data in a:\n",
    "    print(data)"
   ]
  },
  {
   "cell_type": "code",
   "execution_count": 43,
   "id": "scientific-porcelain",
   "metadata": {},
   "outputs": [
    {
     "ename": "SyntaxError",
     "evalue": "invalid syntax (<ipython-input-43-61cac9f7631a>, line 13)",
     "output_type": "error",
     "traceback": [
      "\u001b[1;36m  File \u001b[1;32m\"<ipython-input-43-61cac9f7631a>\"\u001b[1;36m, line \u001b[1;32m13\u001b[0m\n\u001b[1;33m    oddsum=0: evensum=0\u001b[0m\n\u001b[1;37m            ^\u001b[0m\n\u001b[1;31mSyntaxError\u001b[0m\u001b[1;31m:\u001b[0m invalid syntax\n"
     ]
    }
   ],
   "source": [
    "#while loop을 이용, 1부터 10까지의 숫자의 합계\n",
    "\n",
    "num=1\n",
    "sum=0\n",
    "while num<11:\n",
    "    sum+=num\n",
    "    num+=1\n",
    "print(sum)\n",
    "\n",
    "#while loop을 이용, 1부터 10까지의 숫자의 합계\n",
    "#홀수의 합과 짝수의 합으로 구분하시오\n",
    "num=1\n",
    "oddsum=0: evensum=0\n",
    "while num<11:\n",
    "    if num % 2 == 0 :\n",
    "        evensum+=num\n",
    "    else:\n",
    "        oddsum+=num\n",
    "    number +=1\n",
    "print(oddsum, evensum)"
   ]
  }
 ],
 "metadata": {
  "kernelspec": {
   "display_name": "Python 3",
   "language": "python",
   "name": "python3"
  },
  "language_info": {
   "codemirror_mode": {
    "name": "ipython",
    "version": 3
   },
   "file_extension": ".py",
   "mimetype": "text/x-python",
   "name": "python",
   "nbconvert_exporter": "python",
   "pygments_lexer": "ipython3",
   "version": "3.9.2"
  }
 },
 "nbformat": 4,
 "nbformat_minor": 5
}
